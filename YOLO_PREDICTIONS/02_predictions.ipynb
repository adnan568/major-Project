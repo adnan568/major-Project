{
 "cells": [
  {
   "cell_type": "code",
   "execution_count": 1,
   "id": "b76d230b-c054-412d-8357-14b59dd7d3eb",
   "metadata": {},
   "outputs": [],
   "source": [
    "import cv2\n",
    "from yolo_predictions import YOLO_Pred"
   ]
  },
  {
   "cell_type": "code",
   "execution_count": 2,
   "id": "4316908e-c2eb-4fdc-9586-6371043d0c59",
   "metadata": {},
   "outputs": [],
   "source": [
    "yolo = YOLO_Pred('./Model/weights/best.onnx', 'data.yaml')"
   ]
  },
  {
   "cell_type": "code",
   "execution_count": 3,
   "id": "504d8f53-bf53-4d98-838b-8d0b2048b356",
   "metadata": {},
   "outputs": [],
   "source": [
    "img = cv2.imread('./street_image.jpg')\n",
    "\n",
    "cv2.imshow('img',img)\n",
    "cv2.waitKey(0)\n",
    "cv2.destroyAllWindows()"
   ]
  },
  {
   "cell_type": "code",
   "execution_count": 4,
   "id": "45816d63-0be6-4ff2-80ac-382a5080c8ae",
   "metadata": {},
   "outputs": [],
   "source": [
    "#predictions\n",
    "img_pred = yolo.predictions(img)"
   ]
  },
  {
   "cell_type": "code",
   "execution_count": 8,
   "id": "c907a6ad-6907-4d4f-a8bb-df22bd43a6a6",
   "metadata": {},
   "outputs": [],
   "source": [
    "cv2.imshow('prediction',img)\n",
    "cv2.waitKey(0)\n",
    "cv2.destroyAllWindows()"
   ]
  },
  {
   "cell_type": "markdown",
   "id": "f795b816-bfdb-4547-ac19-e0a2510ba068",
   "metadata": {},
   "source": [
    "## Real Time Object Detection"
   ]
  },
  {
   "cell_type": "code",
   "execution_count": 11,
   "id": "4120a399-6ec8-4a08-82c3-4a9b8a05fae9",
   "metadata": {},
   "outputs": [
    {
     "name": "stdout",
     "output_type": "stream",
     "text": [
      "unable to read video\n"
     ]
    }
   ],
   "source": [
    "cap = cv2.VideoCapture('video.mp4')\n",
    "\n",
    "\n",
    "while True:\n",
    "    ret, frame = cap.read()\n",
    "    if ret == False:\n",
    "        print('unable to read video')\n",
    "        break\n",
    "\n",
    "    pred_image = yolo.predictions(frame)\n",
    "\n",
    "    cv2.imshow('YOLO',pred_image)\n",
    "    if cv2.waitKey(1) == 27:\n",
    "        break\n",
    "cv2.destroyAllWindows()\n",
    "cap.release()"
   ]
  },
  {
   "cell_type": "code",
   "execution_count": null,
   "id": "69178cd2-ac32-48dc-83fa-0805304ccc1f",
   "metadata": {},
   "outputs": [],
   "source": [
    "import cv2\n",
    "import threading\n",
    "import time\n",
    "\n",
    "cap = cv2.VideoCapture('video.mp4')\n",
    "\n",
    "# Set target display dimensions\n",
    "display_width = 640\n",
    "display_height = 480\n",
    "\n",
    "# Target FPS (e.g., 15-30 FPS for smoother playback)\n",
    "target_fps = 15\n",
    "frame_delay = 1.0 / target_fps\n",
    "\n",
    "# Shared variables for threading\n",
    "frame = None\n",
    "new_frame = False\n",
    "\n",
    "# Define a function to read frames in a separate thread\n",
    "def read_frames():\n",
    "    global frame, new_frame\n",
    "    while cap.isOpened():\n",
    "        ret, captured_frame = cap.read()\n",
    "        if not ret:\n",
    "            break\n",
    "        frame = captured_frame\n",
    "        new_frame = True\n",
    "        time.sleep(frame_delay)  # Add delay to keep FPS close to target\n",
    "\n",
    "# Start the frame reading thread\n",
    "thread = threading.Thread(target=read_frames)\n",
    "thread.daemon = True\n",
    "thread.start()\n",
    "\n",
    "# Process and display frames\n",
    "while cap.isOpened():\n",
    "    if new_frame and frame is not None:\n",
    "        # Resize frame before processing to reduce load\n",
    "        resized_frame = cv2.resize(frame, (display_width, display_height))\n",
    "        \n",
    "        # Apply YOLO predictions\n",
    "        pred_image = yolo.predictions(resized_frame)\n",
    "        \n",
    "        # Display the processed frame\n",
    "        cv2.imshow('YOLO', pred_image)\n",
    "        new_frame = False  # Reset for the next frame\n",
    "\n",
    "    if cv2.waitKey(1) == 27:  # Press 'Esc' to exit\n",
    "        break\n",
    "\n",
    "cap.release()\n",
    "cv2.destroyAllWindows()\n"
   ]
  }
 ],
 "metadata": {
  "kernelspec": {
   "display_name": "Python 3 (ipykernel)",
   "language": "python",
   "name": "python3"
  },
  "language_info": {
   "codemirror_mode": {
    "name": "ipython",
    "version": 3
   },
   "file_extension": ".py",
   "mimetype": "text/x-python",
   "name": "python",
   "nbconvert_exporter": "python",
   "pygments_lexer": "ipython3",
   "version": "3.11.7"
  }
 },
 "nbformat": 4,
 "nbformat_minor": 5
}
